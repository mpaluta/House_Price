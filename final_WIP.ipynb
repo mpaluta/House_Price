{
 "cells": [
  {
   "cell_type": "markdown",
   "metadata": {},
   "source": [
    "# Getting Real with Real Estate\n",
    "\n",
    "Hold for intro paragraph"
   ]
  },
  {
   "cell_type": "markdown",
   "metadata": {},
   "source": [
    "### Load Data"
   ]
  },
  {
   "cell_type": "code",
   "execution_count": 2,
   "metadata": {},
   "outputs": [],
   "source": [
    "#Libraries needed\n",
    "%matplotlib inline\n",
    "import numpy as np\n",
    "import pandas as pd\n",
    "import matplotlib.pyplot as plt\n",
    "import seaborn as sns"
   ]
  },
  {
   "cell_type": "code",
   "execution_count": 3,
   "metadata": {},
   "outputs": [],
   "source": [
    "og_iowa=pd.read_csv('train.csv', sep=',')\n",
    "df_iowa = og_iowa.copy()\n"
   ]
  },
  {
   "cell_type": "markdown",
   "metadata": {},
   "source": [
    "### Bed/Bath\n",
    "\n",
    "#### Data Exploration"
   ]
  },
  {
   "cell_type": "code",
   "execution_count": 4,
   "metadata": {},
   "outputs": [
    {
     "name": "stdout",
     "output_type": "stream",
     "text": [
      "        Id  MSSubClass MSZoning  LotFrontage  LotArea Street Alley LotShape  \\\n",
      "53      54          20       RL         68.0    50271   Pave   NaN      IR1   \n",
      "189    190         120       RL         41.0     4923   Pave   NaN      Reg   \n",
      "634    635          90       RL         64.0     6979   Pave   NaN      Reg   \n",
      "1163  1164          90       RL         60.0    12900   Pave   NaN      Reg   \n",
      "1213  1214          80       RL          NaN    10246   Pave   NaN      IR1   \n",
      "1270  1271          40       RL          NaN    23595   Pave   NaN      Reg   \n",
      "\n",
      "     LandContour Utilities LotConfig LandSlope Neighborhood Condition1  \\\n",
      "53           Low    AllPub    Inside       Gtl      Veenker       Norm   \n",
      "189          Lvl    AllPub    Inside       Gtl      StoneBr       Norm   \n",
      "634          Lvl    AllPub    Inside       Gtl      OldTown       Norm   \n",
      "1163         Lvl    AllPub    Inside       Gtl       Sawyer      Feedr   \n",
      "1213         Lvl    AllPub   CulDSac       Gtl       Sawyer       Norm   \n",
      "1270         Low    AllPub    Inside       Sev      ClearCr       Norm   \n",
      "\n",
      "     Condition2 BldgType HouseStyle  OverallQual  OverallCond  YearBuilt  \\\n",
      "53         Norm     1Fam     1Story            9            5       1981   \n",
      "189        Norm   TwnhsE     1Story            8            5       2001   \n",
      "634        Norm   Duplex     SFoyer            6            5       1980   \n",
      "1163       Norm   Duplex     SFoyer            4            4       1969   \n",
      "1213       Norm     1Fam       SLvl            4            9       1965   \n",
      "1270       Norm     1Fam     1Story            7            6       1979   \n",
      "\n",
      "      YearRemodAdd RoofStyle RoofMatl Exterior1st Exterior2nd MasVnrType  \\\n",
      "53            1987     Gable  WdShngl     WdShing     Wd Shng       None   \n",
      "189           2002     Gable  CompShg     CemntBd     CmentBd       None   \n",
      "634           1980     Gable  CompShg     Plywood     Plywood       None   \n",
      "1163          1969     Gable  CompShg     Plywood     Plywood       None   \n",
      "1213          2001     Gable  CompShg     VinylSd     VinylSd       None   \n",
      "1270          1979      Shed  WdShake     Plywood     Plywood       None   \n",
      "\n",
      "      MasVnrArea ExterQual ExterCond Foundation BsmtQual BsmtCond  \\\n",
      "53           0.0        Gd        TA     CBlock       Ex       TA   \n",
      "189          0.0        Gd        TA      PConc       Ex       TA   \n",
      "634          0.0        TA        TA     CBlock       TA       TA   \n",
      "1163         0.0        TA        TA     CBlock       Gd       TA   \n",
      "1213         0.0        TA        Gd     CBlock       TA       Gd   \n",
      "1270         0.0        Gd        TA      PConc       Gd       TA   \n",
      "\n",
      "     BsmtExposure BsmtFinType1  BsmtFinSF1 BsmtFinType2  BsmtFinSF2  \\\n",
      "53             Gd          GLQ        1810          Unf           0   \n",
      "189            Av          GLQ        1153          Unf           0   \n",
      "634            No          GLQ        1056          Unf           0   \n",
      "1163           Av          GLQ        1198          Unf           0   \n",
      "1213           Av          GLQ         648          Unf           0   \n",
      "1270           Gd          GLQ        1258          Unf           0   \n",
      "\n",
      "      BsmtUnfSF  TotalBsmtSF Heating HeatingQC CentralAir Electrical  \\\n",
      "53           32         1842    GasA        Gd          Y      SBrkr   \n",
      "189         440         1593    GasA        Ex          Y      SBrkr   \n",
      "634           0         1056    GasA        Gd          Y      SBrkr   \n",
      "1163          0         1198    GasA        TA          Y      SBrkr   \n",
      "1213          0          648    GasA        Ex          Y      SBrkr   \n",
      "1270         74         1332    GasA        TA          Y      SBrkr   \n",
      "\n",
      "      1stFlrSF  2ndFlrSF  LowQualFinSF  GrLivArea  BsmtFullBath  BsmtHalfBath  \\\n",
      "53        1842         0             0       1842             2             0   \n",
      "189       1593         0             0       1593             1             0   \n",
      "634       1056         0             0       1056             2             0   \n",
      "1163      1258         0             0       1258             2             0   \n",
      "1213       960         0             0        960             1             1   \n",
      "1270      1332       192             0       1524             2             0   \n",
      "\n",
      "      FullBath  HalfBath  BedroomAbvGr  KitchenAbvGr KitchenQual  \\\n",
      "53           0         1             0             1          Gd   \n",
      "189          1         1             0             1          Ex   \n",
      "634          0         0             0             2          TA   \n",
      "1163         0         2             0             2          TA   \n",
      "1213         0         0             0             1          TA   \n",
      "1270         0         1             0             1          Gd   \n",
      "\n",
      "      TotRmsAbvGrd Functional  Fireplaces FireplaceQu GarageType  GarageYrBlt  \\\n",
      "53               5        Typ           1          Gd     Attchd       1981.0   \n",
      "189              5        Typ           1          Gd     Attchd       2001.0   \n",
      "634              4        Typ           0         NaN     Detchd       1980.0   \n",
      "1163             6        Typ           0         NaN    CarPort       1969.0   \n",
      "1213             3        Typ           0         NaN     Attchd       1965.0   \n",
      "1270             4        Typ           1          TA     Attchd       1979.0   \n",
      "\n",
      "     GarageFinish  GarageCars  GarageArea GarageQual GarageCond PavedDrive  \\\n",
      "53            Fin           3         894         TA         TA          Y   \n",
      "189           Fin           2         682         TA         TA          Y   \n",
      "634           Unf           2         576         TA         TA          Y   \n",
      "1163          Unf           2         400         Fa         TA          Y   \n",
      "1213          Unf           1         364         TA         TA          Y   \n",
      "1270          Fin           2         586         TA         TA          Y   \n",
      "\n",
      "      WoodDeckSF  OpenPorchSF  EnclosedPorch  3SsnPorch  ScreenPorch  \\\n",
      "53           857           72              0          0            0   \n",
      "189            0          120              0          0          224   \n",
      "634          264           56              0          0            0   \n",
      "1163         120            0              0          0            0   \n",
      "1213          88            0              0          0            0   \n",
      "1270         268            0              0          0            0   \n",
      "\n",
      "      PoolArea PoolQC  Fence MiscFeature  MiscVal  MoSold  YrSold SaleType  \\\n",
      "53           0    NaN    NaN         NaN        0      11    2006       WD   \n",
      "189          0    NaN    NaN         NaN        0       8    2008       WD   \n",
      "634          0    NaN  GdPrv        Shed      600       6    2010       WD   \n",
      "1163         0    NaN    NaN         NaN        0       1    2008       WD   \n",
      "1213         0    NaN    NaN         NaN        0       5    2006       WD   \n",
      "1270         0    NaN    NaN         NaN        0       4    2010       WD   \n",
      "\n",
      "     SaleCondition  SalePrice  \n",
      "53          Normal     385000  \n",
      "189         Normal     286000  \n",
      "634         Normal     144000  \n",
      "1163        Alloca     108959  \n",
      "1213        Normal     145000  \n",
      "1270        Normal     260000  \n"
     ]
    }
   ],
   "source": [
    "#four 0 bedroom houses\n",
    "\n",
    "with pd.option_context(\"display.max_columns\", 90):\n",
    "    print(og_iowa[og_iowa['BedroomAbvGr'] == 0])\n",
    "\n",
    "#remove 0 bedroom houses from data set\n",
    "df_iowa = df_iowa[df_iowa.BedroomAbvGr > 0]\n"
   ]
  },
  {
   "cell_type": "code",
   "execution_count": 5,
   "metadata": {},
   "outputs": [],
   "source": [
    "#Bed/Bath Feature engineering\n",
    "df_iowa['log_SalePrice'] = np.log(df_iowa['SalePrice'])\n",
    "\n",
    "# half bath is 0.5\n",
    "df_iowa['hbath'] = df_iowa['BsmtHalfBath'] + df_iowa['HalfBath']  \n",
    "df_iowa['hbath'] = np.where(df_iowa['hbath'] > 0, df_iowa['hbath']/2 , 0)\n",
    "df_iowa['bath'] = df_iowa['BsmtFullBath'] + df_iowa['FullBath'] + df_iowa['hbath']\n",
    "\n",
    "#bed_bath tuple\n",
    "df_iowa['bed_bath'] = df_iowa[['BedroomAbvGr', 'bath']].apply(tuple, axis=1)\n",
    "\n",
    "#sum bed bath\n",
    "df_iowa['sum_bed_bath'] = df_iowa.BedroomAbvGr + df_iowa.bath\n",
    "\n"
   ]
  },
  {
   "cell_type": "code",
   "execution_count": 60,
   "metadata": {},
   "outputs": [
    {
     "name": "stdout",
     "output_type": "stream",
     "text": [
      "BedroomAbvGr   1    2    3   4  5  6  8\n",
      "bath                                   \n",
      "1.0            8  108  105   5  2  0  0\n",
      "1.5            2   23   86  17  0  0  0\n",
      "2.0           22  131  233  56  9  3  1\n",
      "2.5           12   26  189  61  3  1  0\n",
      "3.0            5   57   98  21  2  2  0\n",
      "3.5            1   12   87  41  3  0  0\n",
      "4.0            0    1    3   8  1  0  0\n",
      "4.5            0    0    2   3  1  1  0\n",
      "5.0            0    0    0   1  0  0  0\n",
      "6.0            0    0    1   0  0  0  0\n"
     ]
    }
   ],
   "source": [
    "#bed bath graph\n",
    "\n",
    "print(pd.crosstab(df_iowa.bath,df_iowa.BedroomAbvGr))\n"
   ]
  },
  {
   "cell_type": "markdown",
   "metadata": {},
   "source": [
    "### Bed/Bath and Sales Price\n",
    "\n",
    "Summary:\n",
    "Bath is a better indicator than bedroom or bed bath"
   ]
  },
  {
   "cell_type": "code",
   "execution_count": 9,
   "metadata": {},
   "outputs": [
    {
     "data": {
      "text/plain": [
       "Text(0.5,1,'Histogram of Log Sale Price by Bathrooms')"
      ]
     },
     "execution_count": 9,
     "metadata": {},
     "output_type": "execute_result"
    },
    {
     "data": {
      "image/png": "[encoded data removed]",
      "text/plain": [
       "<matplotlib.figure.Figure at 0x1a124fb358>"
      ]
     },
     "metadata": {},
     "output_type": "display_data"
    }
   ],
   "source": [
    "#bath has a strong correlation \n",
    "# plt.scatter(df_iowa['bath'], df_iowa['log_SalePrice'], alpha = 0.1 )\n",
    "# plt.show()\n",
    "sns.boxplot(df_iowa['bath'], df_iowa['log_SalePrice'])\n",
    "plt.xlabel('Bathrooms')\n",
    "plt.ylabel('Log Sale Price')\n",
    "plt.title('Histogram of Log Sale Price by Bathrooms')"
   ]
  },
  {
   "cell_type": "code",
   "execution_count": 10,
   "metadata": {},
   "outputs": [
    {
     "data": {
      "text/plain": [
       "Text(0.5,1,'Histogram of Log Sale Price by Bedrooms')"
      ]
     },
     "execution_count": 10,
     "metadata": {},
     "output_type": "execute_result"
    },
    {
     "data": {
      "image/png": "[encoded data removed]",
      "text/plain": [
       "<matplotlib.figure.Figure at 0x10df6de10>"
      ]
     },
     "metadata": {},
     "output_type": "display_data"
    }
   ],
   "source": [
    "#bedroom correlation is not as strong\n",
    "# plt.scatter(df_iowa['BedroomAbvGr'], df_iowa['log_SalePrice'], alpha = 0.1 )\n",
    "# plt.show()\n",
    "sns.boxplot(df_iowa['BedroomAbvGr'], df_iowa['log_SalePrice'])\n",
    "plt.xlabel('Bedrooms')\n",
    "plt.ylabel('Log Sale Price')\n",
    "plt.title('Histogram of Log Sale Price by Bedrooms')"
   ]
  },
  {
   "cell_type": "code",
   "execution_count": 33,
   "metadata": {
    "scrolled": true
   },
   "outputs": [
    {
     "data": {
      "text/plain": [
       "Text(0.5,1,'Strip plot of log sale price by bed/bath tuple')"
      ]
     },
     "execution_count": 33,
     "metadata": {},
     "output_type": "execute_result"
    },
    {
     "data": {
      "image/png": "[encoded data removed]",
      "text/plain": [
       "<matplotlib.figure.Figure at 0x1a1862e518>"
      ]
     },
     "metadata": {},
     "output_type": "display_data"
    }
   ],
   "source": [
    "#can we see trend is made as tuples - no logical order\n",
    "a4_dims = (11.7, 8.27)\n",
    "fig, ax = plt.subplots(figsize=a4_dims)\n",
    "plt.xticks(rotation=90)\n",
    "# sns.stripplot(df_iowa['bed_bath'], df_iowa['log_SalePrice'], order=df_iowa['bath'].groupby(df_iowa['bed_bath']).median().sort_values().index.values)\n",
    "sns.stripplot(df_iowa['bed_bath'], df_iowa['log_SalePrice'], order = df_iowa.groupby(df_iowa['bed_bath']).median().sort_values(['bath', 'BedroomAbvGr']).index.values)\n",
    "plt.xlabel('Bed Bath Tuple')\n",
    "plt.ylabel('Log Sale Price')\n",
    "plt.title('Strip plot of log sale price by bed/bath tuple')"
   ]
  },
  {
   "cell_type": "code",
   "execution_count": 34,
   "metadata": {},
   "outputs": [
    {
     "data": {
      "text/plain": [
       "Text(0.5,1,'Strip plot of log sale price by sum of bed bath')"
      ]
     },
     "execution_count": 34,
     "metadata": {},
     "output_type": "execute_result"
    },
    {
     "data": {
      "image/png": "[encoded data removed]",
      "text/plain": [
       "<matplotlib.figure.Figure at 0x1a193348d0>"
      ]
     },
     "metadata": {},
     "output_type": "display_data"
    }
   ],
   "source": [
    "#summing bed and bath increase correlation\n",
    "\n",
    "# df[['lat', 'long']].apply(tuple, axis=1)\n",
    "a4_dims = (11.7, 8.27)\n",
    "fig, ax = plt.subplots(figsize=a4_dims)\n",
    "# plt.xticks(rotation=45)\n",
    "# sns.boxplot(df_iowa['sum_bed_bath'], df_iowa['log_SalePrice'])\n",
    "sns.stripplot(df_iowa['sum_bed_bath'], df_iowa['log_SalePrice'])\n",
    "plt.xlabel('Sum Bed Bath ')\n",
    "plt.ylabel('Log Sale Price')\n",
    "plt.title('Strip plot of log sale price by sum of bed bath')"
   ]
  },
  {
   "cell_type": "code",
   "execution_count": 39,
   "metadata": {},
   "outputs": [
    {
     "name": "stdout",
     "output_type": "stream",
     "text": [
      "0.6748897329362964\n",
      "0.22215597709807783\n",
      "0.5669799437333365\n",
      "0.5314879128178192\n"
     ]
    }
   ],
   "source": [
    "#ultimately nothing beats bath \n",
    "print(np.corrcoef(df_iowa.bath, df_iowa.log_SalePrice)[0, 1])\n",
    "print(np.corrcoef(df_iowa.BedroomAbvGr, df_iowa.log_SalePrice)[0, 1])\n",
    "print(np.corrcoef(df_iowa.sum_bed_bath, df_iowa.log_SalePrice)[0, 1])"
   ]
  },
  {
   "cell_type": "code",
   "execution_count": 40,
   "metadata": {},
   "outputs": [
    {
     "data": {
      "text/plain": [
       "Index(['Id', 'MSSubClass', 'MSZoning', 'LotFrontage', 'LotArea', 'Street',\n",
       "       'Alley', 'LotShape', 'LandContour', 'Utilities', 'LotConfig',\n",
       "       'LandSlope', 'Neighborhood', 'Condition1', 'Condition2', 'BldgType',\n",
       "       'HouseStyle', 'OverallQual', 'OverallCond', 'YearBuilt', 'YearRemodAdd',\n",
       "       'RoofStyle', 'RoofMatl', 'Exterior1st', 'Exterior2nd', 'MasVnrType',\n",
       "       'MasVnrArea', 'ExterQual', 'ExterCond', 'Foundation', 'BsmtQual',\n",
       "       'BsmtCond', 'BsmtExposure', 'BsmtFinType1', 'BsmtFinSF1',\n",
       "       'BsmtFinType2', 'BsmtFinSF2', 'BsmtUnfSF', 'TotalBsmtSF', 'Heating',\n",
       "       'HeatingQC', 'CentralAir', 'Electrical', '1stFlrSF', '2ndFlrSF',\n",
       "       'LowQualFinSF', 'GrLivArea', 'BsmtFullBath', 'BsmtHalfBath', 'FullBath',\n",
       "       'HalfBath', 'BedroomAbvGr', 'KitchenAbvGr', 'KitchenQual',\n",
       "       'TotRmsAbvGrd', 'Functional', 'Fireplaces', 'FireplaceQu', 'GarageType',\n",
       "       'GarageYrBlt', 'GarageFinish', 'GarageCars', 'GarageArea', 'GarageQual',\n",
       "       'GarageCond', 'PavedDrive', 'WoodDeckSF', 'OpenPorchSF',\n",
       "       'EnclosedPorch', '3SsnPorch', 'ScreenPorch', 'PoolArea', 'PoolQC',\n",
       "       'Fence', 'MiscFeature', 'MiscVal', 'MoSold', 'YrSold', 'SaleType',\n",
       "       'SaleCondition', 'SalePrice', 'log_SalePrice', 'hbath', 'bath',\n",
       "       'bed_bath', 'sum_bed_bath'],\n",
       "      dtype='object')"
      ]
     },
     "execution_count": 40,
     "metadata": {},
     "output_type": "execute_result"
    }
   ],
   "source": [
    "df_iowa.columns"
   ]
  },
  {
   "cell_type": "markdown",
   "metadata": {},
   "source": [
    "## Confirm Trend"
   ]
  },
  {
   "cell_type": "markdown",
   "metadata": {},
   "source": [
    "### Data Exploration of New Data"
   ]
  },
  {
   "cell_type": "code",
   "execution_count": 67,
   "metadata": {},
   "outputs": [],
   "source": [
    "og_slo=pd.read_csv('RealEstate.csv', sep =',')\n",
    "df_ca = og_slo.copy()\n",
    "\n",
    "og_nc=pd.read_excel('woodard.xls')\n",
    "df_nc = og_nc.copy()\n",
    "# Import 2nd Dataset (California)\n",
    "og_slo=pd.read_csv('RealEstate.csv', sep =',')\n",
    "df_ca = og_slo.copy()\n",
    "df_ca = df_ca[['Price', 'Bedrooms', 'Bathrooms', 'Size', 'Status']]\n",
    "df_ca.columns = ['SalePrice', 'Bed', 'Bath', 'Sq_Ft', 'SaleType']\n",
    "\n",
    "# Import 3rd Dataset (North Carolina)\n",
    "og_nc=pd.read_excel('woodard.xls')\n",
    "df_nc = og_nc.copy()\n",
    "# new_file = pd.ExcelFile(\"woodard.xls\")\n",
    "# df_nc = new_file.parse(\"Sheet1\")\n",
    "df_nc = df_nc[['Total $', 'Year Built', 'Sq. Ft.', 'Story', 'No. Baths', 'Acres', 'Fireplaces']]\n",
    "df_nc.columns = ['SalePrice', 'YearBuilt', 'Sq_Ft', 'Stories', 'Bath', 'LotArea', 'Fireplaces']\n",
    "df_nc['LotArea'] = df_nc['LotArea'] * 43560\n"
   ]
  },
  {
   "cell_type": "code",
   "execution_count": 46,
   "metadata": {},
   "outputs": [
    {
     "name": "stdout",
     "output_type": "stream",
     "text": [
      "          SalePrice         Bed        Bath      Sq. Ft.\n",
      "count  7.810000e+02  781.000000  781.000000   781.000000\n",
      "mean   3.833291e+05    3.142125    2.355954  1755.058899\n",
      "std    3.490381e+05    0.855768    0.846596   819.577603\n",
      "min    2.650000e+04    0.000000    1.000000   120.000000\n",
      "25%    1.990000e+05    3.000000    2.000000  1218.000000\n",
      "50%    2.950000e+05    3.000000    2.000000  1550.000000\n",
      "75%    4.290000e+05    4.000000    3.000000  2032.000000\n",
      "max    5.499000e+06   10.000000   11.000000  6800.000000\n"
     ]
    }
   ],
   "source": [
    "print(df_ca.describe())"
   ]
  },
  {
   "cell_type": "code",
   "execution_count": 81,
   "metadata": {},
   "outputs": [
    {
     "data": {
      "text/html": [
       "<div>\n",
       "<style scoped>\n",
       "    .dataframe tbody tr th:only-of-type {\n",
       "        vertical-align: middle;\n",
       "    }\n",
       "\n",
       "    .dataframe tbody tr th {\n",
       "        vertical-align: top;\n",
       "    }\n",
       "\n",
       "    .dataframe thead th {\n",
       "        text-align: right;\n",
       "    }\n",
       "</style>\n",
       "<table border=\"1\" class=\"dataframe\">\n",
       "  <thead>\n",
       "    <tr style=\"text-align: right;\">\n",
       "      <th></th>\n",
       "      <th>SalePrice</th>\n",
       "      <th>YearBuilt</th>\n",
       "      <th>Sq_Ft</th>\n",
       "      <th>Stories</th>\n",
       "      <th>Bath</th>\n",
       "      <th>LotArea</th>\n",
       "      <th>Fireplaces</th>\n",
       "    </tr>\n",
       "  </thead>\n",
       "  <tbody>\n",
       "    <tr>\n",
       "      <th>count</th>\n",
       "      <td>1.000000e+02</td>\n",
       "      <td>100.000000</td>\n",
       "      <td>100.00000</td>\n",
       "      <td>100.000000</td>\n",
       "      <td>99.000000</td>\n",
       "      <td>1.000000e+02</td>\n",
       "      <td>100.000000</td>\n",
       "    </tr>\n",
       "    <tr>\n",
       "      <th>mean</th>\n",
       "      <td>2.585740e+05</td>\n",
       "      <td>1975.910000</td>\n",
       "      <td>1729.50000</td>\n",
       "      <td>1.362500</td>\n",
       "      <td>2.025253</td>\n",
       "      <td>3.445160e+04</td>\n",
       "      <td>0.730000</td>\n",
       "    </tr>\n",
       "    <tr>\n",
       "      <th>std</th>\n",
       "      <td>4.910691e+05</td>\n",
       "      <td>16.544458</td>\n",
       "      <td>719.40491</td>\n",
       "      <td>0.447178</td>\n",
       "      <td>0.586296</td>\n",
       "      <td>1.703509e+05</td>\n",
       "      <td>0.468287</td>\n",
       "    </tr>\n",
       "    <tr>\n",
       "      <th>min</th>\n",
       "      <td>3.218400e+04</td>\n",
       "      <td>1909.000000</td>\n",
       "      <td>705.00000</td>\n",
       "      <td>1.000000</td>\n",
       "      <td>1.000000</td>\n",
       "      <td>0.000000e+00</td>\n",
       "      <td>0.000000</td>\n",
       "    </tr>\n",
       "    <tr>\n",
       "      <th>25%</th>\n",
       "      <td>1.239518e+05</td>\n",
       "      <td>1966.500000</td>\n",
       "      <td>1207.50000</td>\n",
       "      <td>1.000000</td>\n",
       "      <td>1.750000</td>\n",
       "      <td>8.712000e+03</td>\n",
       "      <td>0.000000</td>\n",
       "    </tr>\n",
       "    <tr>\n",
       "      <th>50%</th>\n",
       "      <td>1.664935e+05</td>\n",
       "      <td>1981.500000</td>\n",
       "      <td>1573.50000</td>\n",
       "      <td>1.000000</td>\n",
       "      <td>2.000000</td>\n",
       "      <td>1.328580e+04</td>\n",
       "      <td>1.000000</td>\n",
       "    </tr>\n",
       "    <tr>\n",
       "      <th>75%</th>\n",
       "      <td>2.740500e+05</td>\n",
       "      <td>1987.000000</td>\n",
       "      <td>2058.50000</td>\n",
       "      <td>1.812500</td>\n",
       "      <td>2.500000</td>\n",
       "      <td>2.188890e+04</td>\n",
       "      <td>1.000000</td>\n",
       "    </tr>\n",
       "    <tr>\n",
       "      <th>max</th>\n",
       "      <td>4.904102e+06</td>\n",
       "      <td>2003.000000</td>\n",
       "      <td>4650.00000</td>\n",
       "      <td>2.500000</td>\n",
       "      <td>3.000000</td>\n",
       "      <td>1.715393e+06</td>\n",
       "      <td>2.000000</td>\n",
       "    </tr>\n",
       "  </tbody>\n",
       "</table>\n",
       "</div>"
      ],
      "text/plain": [
       "          SalePrice    YearBuilt       Sq_Ft     Stories       Bath  \\\n",
       "count  1.000000e+02   100.000000   100.00000  100.000000  99.000000   \n",
       "mean   2.585740e+05  1975.910000  1729.50000    1.362500   2.025253   \n",
       "std    4.910691e+05    16.544458   719.40491    0.447178   0.586296   \n",
       "min    3.218400e+04  1909.000000   705.00000    1.000000   1.000000   \n",
       "25%    1.239518e+05  1966.500000  1207.50000    1.000000   1.750000   \n",
       "50%    1.664935e+05  1981.500000  1573.50000    1.000000   2.000000   \n",
       "75%    2.740500e+05  1987.000000  2058.50000    1.812500   2.500000   \n",
       "max    4.904102e+06  2003.000000  4650.00000    2.500000   3.000000   \n",
       "\n",
       "            LotArea  Fireplaces  \n",
       "count  1.000000e+02  100.000000  \n",
       "mean   3.445160e+04    0.730000  \n",
       "std    1.703509e+05    0.468287  \n",
       "min    0.000000e+00    0.000000  \n",
       "25%    8.712000e+03    0.000000  \n",
       "50%    1.328580e+04    1.000000  \n",
       "75%    2.188890e+04    1.000000  \n",
       "max    1.715393e+06    2.000000  "
      ]
     },
     "execution_count": 81,
     "metadata": {},
     "output_type": "execute_result"
    }
   ],
   "source": [
    "df_nc.describe()\n"
   ]
  },
  {
   "cell_type": "markdown",
   "metadata": {},
   "source": [
    "### Outliers and Missing Values"
   ]
  },
  {
   "cell_type": "code",
   "execution_count": 89,
   "metadata": {},
   "outputs": [
    {
     "data": {
      "text/html": [
       "<div>\n",
       "<style scoped>\n",
       "    .dataframe tbody tr th:only-of-type {\n",
       "        vertical-align: middle;\n",
       "    }\n",
       "\n",
       "    .dataframe tbody tr th {\n",
       "        vertical-align: top;\n",
       "    }\n",
       "\n",
       "    .dataframe thead th {\n",
       "        text-align: right;\n",
       "    }\n",
       "</style>\n",
       "<table border=\"1\" class=\"dataframe\">\n",
       "  <thead>\n",
       "    <tr style=\"text-align: right;\">\n",
       "      <th></th>\n",
       "      <th>SalePrice</th>\n",
       "      <th>Bed</th>\n",
       "      <th>Bath</th>\n",
       "      <th>Sq_Ft</th>\n",
       "      <th>SaleType</th>\n",
       "    </tr>\n",
       "  </thead>\n",
       "  <tbody>\n",
       "    <tr>\n",
       "      <th>102</th>\n",
       "      <td>275000.0</td>\n",
       "      <td>0</td>\n",
       "      <td>1</td>\n",
       "      <td>398</td>\n",
       "      <td>Short Sale</td>\n",
       "    </tr>\n",
       "    <tr>\n",
       "      <th>253</th>\n",
       "      <td>311900.0</td>\n",
       "      <td>0</td>\n",
       "      <td>1</td>\n",
       "      <td>910</td>\n",
       "      <td>Foreclosure</td>\n",
       "    </tr>\n",
       "  </tbody>\n",
       "</table>\n",
       "</div>"
      ],
      "text/plain": [
       "     SalePrice  Bed  Bath  Sq_Ft     SaleType\n",
       "102   275000.0    0     1    398   Short Sale\n",
       "253   311900.0    0     1    910  Foreclosure"
      ]
     },
     "execution_count": 89,
     "metadata": {},
     "output_type": "execute_result"
    }
   ],
   "source": [
    "df_ca[df_ca.Bed < 1]"
   ]
  },
  {
   "cell_type": "code",
   "execution_count": 68,
   "metadata": {},
   "outputs": [
    {
     "data": {
      "text/plain": [
       "(array([ 47., 218., 196., 134.,  57.,  39.,  18.,  21.,  15.,  10.]),\n",
       " array([  26500.,  130350.,  234200.,  338050.,  441900.,  545750.,\n",
       "         649600.,  753450.,  857300.,  961150., 1065000.]),\n",
       " <a list of 10 Patch objects>)"
      ]
     },
     "execution_count": 68,
     "metadata": {},
     "output_type": "execute_result"
    },
    {
     "data": {
      "image/png": "[encoded data removed]",
      "text/plain": [
       "<matplotlib.figure.Figure at 0x1a19301e80>"
      ]
     },
     "metadata": {},
     "output_type": "display_data"
    }
   ],
   "source": [
    "# max_house_price_ca = (np.std(df_ca['SalePrice'])*2 + np.mean(df_ca['SalePrice']))\n",
    "fixed_ca = df_ca[df_ca['SalePrice'] < (np.std(df_ca['SalePrice'])*2 + np.mean(df_ca['SalePrice'])) ]\n",
    "plt.hist(fixed_ca['SalePrice'])\n"
   ]
  },
  {
   "cell_type": "code",
   "execution_count": 69,
   "metadata": {},
   "outputs": [
    {
     "data": {
      "text/plain": [
       "(array([ 2.,  0.,  2.,  0.,  1.,  1.,  3.,  4., 11.,  9., 16., 39., 64.,\n",
       "        66., 72., 79., 82., 70., 72., 37., 39., 27., 19., 27., 13.]),\n",
       " array([10.18490001, 10.33264343, 10.48038684, 10.62813025, 10.77587367,\n",
       "        10.92361708, 11.07136049, 11.21910391, 11.36684732, 11.51459074,\n",
       "        11.66233415, 11.81007756, 11.95782098, 12.10556439, 12.25330781,\n",
       "        12.40105122, 12.54879463, 12.69653805, 12.84428146, 12.99202487,\n",
       "        13.13976829, 13.2875117 , 13.43525512, 13.58299853, 13.73074194,\n",
       "        13.87848536]),\n",
       " <a list of 25 Patch objects>)"
      ]
     },
     "execution_count": 69,
     "metadata": {},
     "output_type": "execute_result"
    },
    {
     "data": {
      "image/png": "[encoded data removed]",
      "text/plain": [
       "<matplotlib.figure.Figure at 0x1a18bd9208>"
      ]
     },
     "metadata": {},
     "output_type": "display_data"
    }
   ],
   "source": [
    "plt.hist(np.log(fixed_ca['SalePrice']),bins = 25)"
   ]
  },
  {
   "cell_type": "code",
   "execution_count": 74,
   "metadata": {},
   "outputs": [
    {
     "data": {
      "text/plain": [
       "<matplotlib.collections.PathCollection at 0x1a1caa03c8>"
      ]
     },
     "execution_count": 74,
     "metadata": {},
     "output_type": "execute_result"
    },
    {
     "data": {
      "image/png": "[encoded data removed]",
      "text/plain": [
       "<matplotlib.figure.Figure at 0x1a1c9bb048>"
      ]
     },
     "metadata": {},
     "output_type": "display_data"
    }
   ],
   "source": [
    "plt.scatter(fixed_ca.Sq_Ft, fixed_ca.SalePrice)"
   ]
  },
  {
   "cell_type": "code",
   "execution_count": 73,
   "metadata": {},
   "outputs": [
    {
     "data": {
      "text/plain": [
       "<matplotlib.collections.PathCollection at 0x1a1d11bfd0>"
      ]
     },
     "execution_count": 73,
     "metadata": {},
     "output_type": "execute_result"
    },
    {
     "data": {
      "image/png": "[encoded data removed]",
      "text/plain": [
       "<matplotlib.figure.Figure at 0x1a1ca33240>"
      ]
     },
     "metadata": {},
     "output_type": "display_data"
    }
   ],
   "source": [
    "plt.scatter(fixed_ca.Sq_Ft, np.log(fixed_ca.SalePrice))"
   ]
  },
  {
   "cell_type": "code",
   "execution_count": 79,
   "metadata": {},
   "outputs": [
    {
     "data": {
      "text/html": [
       "<div>\n",
       "<style scoped>\n",
       "    .dataframe tbody tr th:only-of-type {\n",
       "        vertical-align: middle;\n",
       "    }\n",
       "\n",
       "    .dataframe tbody tr th {\n",
       "        vertical-align: top;\n",
       "    }\n",
       "\n",
       "    .dataframe thead th {\n",
       "        text-align: right;\n",
       "    }\n",
       "</style>\n",
       "<table border=\"1\" class=\"dataframe\">\n",
       "  <thead>\n",
       "    <tr style=\"text-align: right;\">\n",
       "      <th></th>\n",
       "      <th>SalePrice</th>\n",
       "      <th>Bed</th>\n",
       "      <th>Bath</th>\n",
       "      <th>Sq_Ft</th>\n",
       "      <th>SaleType</th>\n",
       "    </tr>\n",
       "  </thead>\n",
       "  <tbody>\n",
       "    <tr>\n",
       "      <th>111</th>\n",
       "      <td>890000.0</td>\n",
       "      <td>4</td>\n",
       "      <td>5</td>\n",
       "      <td>4229</td>\n",
       "      <td>Foreclosure</td>\n",
       "    </tr>\n",
       "    <tr>\n",
       "      <th>367</th>\n",
       "      <td>245000.0</td>\n",
       "      <td>5</td>\n",
       "      <td>3</td>\n",
       "      <td>6098</td>\n",
       "      <td>Short Sale</td>\n",
       "    </tr>\n",
       "    <tr>\n",
       "      <th>561</th>\n",
       "      <td>949000.0</td>\n",
       "      <td>5</td>\n",
       "      <td>4</td>\n",
       "      <td>5200</td>\n",
       "      <td>Short Sale</td>\n",
       "    </tr>\n",
       "    <tr>\n",
       "      <th>639</th>\n",
       "      <td>699000.0</td>\n",
       "      <td>10</td>\n",
       "      <td>11</td>\n",
       "      <td>4905</td>\n",
       "      <td>Short Sale</td>\n",
       "    </tr>\n",
       "  </tbody>\n",
       "</table>\n",
       "</div>"
      ],
      "text/plain": [
       "     SalePrice  Bed  Bath  Sq_Ft     SaleType\n",
       "111   890000.0    4     5   4229  Foreclosure\n",
       "367   245000.0    5     3   6098   Short Sale\n",
       "561   949000.0    5     4   5200   Short Sale\n",
       "639   699000.0   10    11   4905   Short Sale"
      ]
     },
     "execution_count": 79,
     "metadata": {},
     "output_type": "execute_result"
    }
   ],
   "source": [
    "fixed_ca[(fixed_ca['Sq_Ft']) > 4000]\n",
    "#drop foreclosure\n",
    "#SaleType of house"
   ]
  },
  {
   "cell_type": "code",
   "execution_count": 87,
   "metadata": {},
   "outputs": [
    {
     "data": {
      "text/html": [
       "<div>\n",
       "<style scoped>\n",
       "    .dataframe tbody tr th:only-of-type {\n",
       "        vertical-align: middle;\n",
       "    }\n",
       "\n",
       "    .dataframe tbody tr th {\n",
       "        vertical-align: top;\n",
       "    }\n",
       "\n",
       "    .dataframe thead th {\n",
       "        text-align: right;\n",
       "    }\n",
       "</style>\n",
       "<table border=\"1\" class=\"dataframe\">\n",
       "  <thead>\n",
       "    <tr style=\"text-align: right;\">\n",
       "      <th></th>\n",
       "      <th>SalePrice</th>\n",
       "      <th>YearBuilt</th>\n",
       "      <th>Sq_Ft</th>\n",
       "      <th>Stories</th>\n",
       "      <th>Bath</th>\n",
       "      <th>LotArea</th>\n",
       "      <th>Fireplaces</th>\n",
       "    </tr>\n",
       "  </thead>\n",
       "  <tbody>\n",
       "    <tr>\n",
       "      <th>35</th>\n",
       "      <td>136695</td>\n",
       "      <td>1949</td>\n",
       "      <td>720</td>\n",
       "      <td>1.5</td>\n",
       "      <td>1.0</td>\n",
       "      <td>0.0</td>\n",
       "      <td>0</td>\n",
       "    </tr>\n",
       "    <tr>\n",
       "      <th>49</th>\n",
       "      <td>61829</td>\n",
       "      <td>1972</td>\n",
       "      <td>1140</td>\n",
       "      <td>2.0</td>\n",
       "      <td>1.0</td>\n",
       "      <td>0.0</td>\n",
       "      <td>0</td>\n",
       "    </tr>\n",
       "    <tr>\n",
       "      <th>57</th>\n",
       "      <td>89871</td>\n",
       "      <td>1987</td>\n",
       "      <td>968</td>\n",
       "      <td>1.0</td>\n",
       "      <td>1.5</td>\n",
       "      <td>0.0</td>\n",
       "      <td>1</td>\n",
       "    </tr>\n",
       "  </tbody>\n",
       "</table>\n",
       "</div>"
      ],
      "text/plain": [
       "    SalePrice  YearBuilt  Sq_Ft  Stories  Bath  LotArea  Fireplaces\n",
       "35     136695       1949    720      1.5   1.0      0.0           0\n",
       "49      61829       1972   1140      2.0   1.0      0.0           0\n",
       "57      89871       1987    968      1.0   1.5      0.0           1"
      ]
     },
     "execution_count": 87,
     "metadata": {},
     "output_type": "execute_result"
    }
   ],
   "source": [
    "#missing lot area \n",
    "df_nc[df_nc.LotArea < 1]"
   ]
  },
  {
   "cell_type": "code",
   "execution_count": 84,
   "metadata": {},
   "outputs": [
    {
     "data": {
      "text/plain": [
       "(array([ 7., 14., 28., 13., 10.,  3.,  9.,  3.,  4.,  4.,  2.,  1.,  0.,\n",
       "         0.,  0.,  0.,  0.,  0.,  0.,  0.,  0.,  0.,  0.,  0.,  1.]),\n",
       " array([  32184.  ,   75446.64,  118709.28,  161971.92,  205234.56,\n",
       "         248497.2 ,  291759.84,  335022.48,  378285.12,  421547.76,\n",
       "         464810.4 ,  508073.04,  551335.68,  594598.32,  637860.96,\n",
       "         681123.6 ,  724386.24,  767648.88,  810911.52,  854174.16,\n",
       "         897436.8 ,  940699.44,  983962.08, 1027224.72, 1070487.36,\n",
       "        1113750.  ]),\n",
       " <a list of 25 Patch objects>)"
      ]
     },
     "execution_count": 84,
     "metadata": {},
     "output_type": "execute_result"
    },
    {
     "data": {
      "image/png": "[encoded data removed]",
      "text/plain": [
       "<matplotlib.figure.Figure at 0x1a1d4538d0>"
      ]
     },
     "metadata": {},
     "output_type": "display_data"
    }
   ],
   "source": [
    "fixed_nc = df_nc[df_nc['SalePrice'] < np.std(df_nc['SalePrice'])*2 + np.mean(df_nc['SalePrice']) ]\n",
    "plt.hist(fixed_nc['SalePrice'],bins = 25)"
   ]
  },
  {
   "cell_type": "code",
   "execution_count": 85,
   "metadata": {},
   "outputs": [
    {
     "data": {
      "text/plain": [
       "(array([ 1.,  2.,  0.,  0.,  2.,  2.,  0.,  9.,  3., 15.,  8.,  9., 11.,\n",
       "         8.,  5.,  2., 10.,  4.,  4.,  3.,  0.,  0.,  0.,  0.,  1.]),\n",
       " array([10.37922471, 10.52098546, 10.6627462 , 10.80450694, 10.94626768,\n",
       "        11.08802842, 11.22978916, 11.37154991, 11.51331065, 11.65507139,\n",
       "        11.79683213, 11.93859287, 12.08035361, 12.22211436, 12.3638751 ,\n",
       "        12.50563584, 12.64739658, 12.78915732, 12.93091807, 13.07267881,\n",
       "        13.21443955, 13.35620029, 13.49796103, 13.63972177, 13.78148252,\n",
       "        13.92324326]),\n",
       " <a list of 25 Patch objects>)"
      ]
     },
     "execution_count": 85,
     "metadata": {},
     "output_type": "execute_result"
    },
    {
     "data": {
      "image/png": "[encoded data removed]",
      "text/plain": [
       "<matplotlib.figure.Figure at 0x1a1d566630>"
      ]
     },
     "metadata": {},
     "output_type": "display_data"
    }
   ],
   "source": [
    "plt.hist(np.log(fixed_nc['SalePrice']),bins = 25)"
   ]
  },
  {
   "cell_type": "code",
   "execution_count": 86,
   "metadata": {},
   "outputs": [
    {
     "data": {
      "text/plain": [
       "<matplotlib.collections.PathCollection at 0x1a1d7ce630>"
      ]
     },
     "execution_count": 86,
     "metadata": {},
     "output_type": "execute_result"
    },
    {
     "data": {
      "image/png": "[encoded data removed]",
      "text/plain": [
       "<matplotlib.figure.Figure at 0x1a1d60dd68>"
      ]
     },
     "metadata": {},
     "output_type": "display_data"
    }
   ],
   "source": [
    "plt.scatter(fixed_nc.Sq_Ft, np.log(fixed_nc.SalePrice))"
   ]
  },
  {
   "cell_type": "markdown",
   "metadata": {},
   "source": [
    "### Merge Data Sets"
   ]
  },
  {
   "cell_type": "code",
   "execution_count": 180,
   "metadata": {},
   "outputs": [],
   "source": [
    "# Create Merged Data Set\n",
    "#Clean CA and NC based on outliers and missing values found\n",
    "fixed_ca = df_ca.loc[(df_ca['SalePrice'] < (np.std(df_ca['SalePrice'])*2 + np.mean(df_ca['SalePrice']))) & (df_ca['Bed'] != 0) ]\n",
    "fixed_ca = fixed_ca.assign(logSalePrice = np.log(fixed_ca['SalePrice']) )\n",
    "fixed_ca = fixed_ca.assign(Dataset = 'CA')\n",
    "\n",
    "fixed_nc = df_nc.loc[(df_nc['SalePrice'] < (np.std(df_nc['SalePrice'])*2 + np.mean(df_nc['SalePrice']))) & (df_nc['LotArea'] > 1)]\n",
    "fixed_nc = fixed_nc.assign(logSalePrice = np.log(fixed_nc['SalePrice']) )\n",
    "fixed_nc = fixed_nc.assign(Dataset = 'NC')\n",
    "\n",
    "# The merged data set is composed of all features that are common to at least one of the three individual data sets.\n",
    "\n",
    "# Prep 1st Dataset (Iowa)\n",
    "fixed_ia = og_iowa.copy()\n",
    "# Select columns needed from Iowa DS \n",
    "fixed_ia = fixed_ia[['SalePrice', 'YearBuilt', 'HouseStyle', 'BsmtFullBath', 'BsmtHalfBath', 'FullBath', 'HalfBath', \\\n",
    "                   'BedroomAbvGr','TotalBsmtSF', 'GrLivArea', 'SaleType', 'LotArea', 'Fireplaces']]\n",
    "# half bath is 0.5\n",
    "fixed_ia['hbath'] = fixed_ia['BsmtHalfBath'] + fixed_ia['HalfBath']  \n",
    "fixed_ia['hbath'] = np.where(fixed_ia['hbath'] > 0, fixed_ia['hbath']/2 , 0)\n",
    "fixed_ia['bath'] = fixed_ia['BsmtFullBath'] + fixed_ia['FullBath'] + fixed_ia['hbath']\n",
    "# sum up basement and other living area to get total sq. feet\n",
    "fixed_ia['Sq_Ft'] = fixed_ia['TotalBsmtSF'] + fixed_ia['GrLivArea']\n",
    "#Remove unwanted columns now that we have a new column for bath in DF and we have sq. feet\n",
    "fixed_ia.drop(['BsmtFullBath', 'BsmtHalfBath', 'FullBath', 'HalfBath', 'hbath', 'TotalBsmtSF', 'GrLivArea'], axis =1, inplace = True)\n",
    "# Renaming the columns on Iowa df to keep them uniform across all data sets\n",
    "fixed_ia.columns = ['SalePrice', 'YearBuilt', 'Stories', 'Bed', 'SaleType', 'Sq_Ft', 'Fireplaces', 'Bath', 'LotArea']\n",
    "fixed_ia = fixed_ia.assign(logSalePrice = np.log(fixed_ia['SalePrice']) )\n",
    "fixed_ia = fixed_ia.assign(Dataset = 'IA')\n",
    "fixed_ia = fixed_ia.loc[ (fixed_ia['Bed'] != 0)]\n",
    "\n",
    "\n",
    "# Concatenation\n",
    "df_final = pd.concat([fixed_ia,fixed_ca, fixed_nc], axis=0, ignore_index=True)\n",
    "df_final.replace('', np.NaN)\n",
    "df_final['YearBuilt'] = df_final['YearBuilt'].fillna(0).astype(np.int64)"
   ]
  },
  {
   "cell_type": "code",
   "execution_count": 182,
   "metadata": {},
   "outputs": [
    {
     "data": {
      "text/html": [
       "<div>\n",
       "<style scoped>\n",
       "    .dataframe tbody tr th:only-of-type {\n",
       "        vertical-align: middle;\n",
       "    }\n",
       "\n",
       "    .dataframe tbody tr th {\n",
       "        vertical-align: top;\n",
       "    }\n",
       "\n",
       "    .dataframe thead th {\n",
       "        text-align: right;\n",
       "    }\n",
       "</style>\n",
       "<table border=\"1\" class=\"dataframe\">\n",
       "  <thead>\n",
       "    <tr style=\"text-align: right;\">\n",
       "      <th></th>\n",
       "      <th>Bath</th>\n",
       "      <th>Bed</th>\n",
       "      <th>Fireplaces</th>\n",
       "      <th>LotArea</th>\n",
       "      <th>SalePrice</th>\n",
       "      <th>Sq_Ft</th>\n",
       "      <th>YearBuilt</th>\n",
       "      <th>logSalePrice</th>\n",
       "    </tr>\n",
       "  </thead>\n",
       "  <tbody>\n",
       "    <tr>\n",
       "      <th>count</th>\n",
       "      <td>2302.000000</td>\n",
       "      <td>2207.000000</td>\n",
       "      <td>1550.000000</td>\n",
       "      <td>1550.000000</td>\n",
       "      <td>2.303000e+03</td>\n",
       "      <td>2303.000000</td>\n",
       "      <td>2303.000000</td>\n",
       "      <td>2303.000000</td>\n",
       "    </tr>\n",
       "    <tr>\n",
       "      <th>mean</th>\n",
       "      <td>2.233927</td>\n",
       "      <td>2.963752</td>\n",
       "      <td>0.621935</td>\n",
       "      <td>3529.219097</td>\n",
       "      <td>2.338264e+05</td>\n",
       "      <td>7244.147199</td>\n",
       "      <td>1326.902301</td>\n",
       "      <td>12.207328</td>\n",
       "    </tr>\n",
       "    <tr>\n",
       "      <th>std</th>\n",
       "      <td>0.773946</td>\n",
       "      <td>0.817172</td>\n",
       "      <td>0.635944</td>\n",
       "      <td>5103.528822</td>\n",
       "      <td>1.519515e+05</td>\n",
       "      <td>8973.972349</td>\n",
       "      <td>925.367945</td>\n",
       "      <td>0.535769</td>\n",
       "    </tr>\n",
       "    <tr>\n",
       "      <th>min</th>\n",
       "      <td>1.000000</td>\n",
       "      <td>1.000000</td>\n",
       "      <td>0.000000</td>\n",
       "      <td>334.000000</td>\n",
       "      <td>2.650000e+04</td>\n",
       "      <td>120.000000</td>\n",
       "      <td>0.000000</td>\n",
       "      <td>10.184900</td>\n",
       "    </tr>\n",
       "    <tr>\n",
       "      <th>25%</th>\n",
       "      <td>2.000000</td>\n",
       "      <td>3.000000</td>\n",
       "      <td>0.000000</td>\n",
       "      <td>2039.250000</td>\n",
       "      <td>1.397500e+05</td>\n",
       "      <td>1828.000000</td>\n",
       "      <td>0.000000</td>\n",
       "      <td>11.847610</td>\n",
       "    </tr>\n",
       "    <tr>\n",
       "      <th>50%</th>\n",
       "      <td>2.000000</td>\n",
       "      <td>3.000000</td>\n",
       "      <td>1.000000</td>\n",
       "      <td>2530.000000</td>\n",
       "      <td>1.870000e+05</td>\n",
       "      <td>7200.000000</td>\n",
       "      <td>1955.000000</td>\n",
       "      <td>12.138864</td>\n",
       "    </tr>\n",
       "    <tr>\n",
       "      <th>75%</th>\n",
       "      <td>3.000000</td>\n",
       "      <td>3.000000</td>\n",
       "      <td>1.000000</td>\n",
       "      <td>3146.000000</td>\n",
       "      <td>2.750000e+05</td>\n",
       "      <td>10205.500000</td>\n",
       "      <td>1988.000000</td>\n",
       "      <td>12.524526</td>\n",
       "    </tr>\n",
       "    <tr>\n",
       "      <th>max</th>\n",
       "      <td>11.000000</td>\n",
       "      <td>10.000000</td>\n",
       "      <td>3.000000</td>\n",
       "      <td>66646.800000</td>\n",
       "      <td>1.113750e+06</td>\n",
       "      <td>215245.000000</td>\n",
       "      <td>2010.000000</td>\n",
       "      <td>13.923243</td>\n",
       "    </tr>\n",
       "  </tbody>\n",
       "</table>\n",
       "</div>"
      ],
      "text/plain": [
       "              Bath          Bed   Fireplaces       LotArea     SalePrice  \\\n",
       "count  2302.000000  2207.000000  1550.000000   1550.000000  2.303000e+03   \n",
       "mean      2.233927     2.963752     0.621935   3529.219097  2.338264e+05   \n",
       "std       0.773946     0.817172     0.635944   5103.528822  1.519515e+05   \n",
       "min       1.000000     1.000000     0.000000    334.000000  2.650000e+04   \n",
       "25%       2.000000     3.000000     0.000000   2039.250000  1.397500e+05   \n",
       "50%       2.000000     3.000000     1.000000   2530.000000  1.870000e+05   \n",
       "75%       3.000000     3.000000     1.000000   3146.000000  2.750000e+05   \n",
       "max      11.000000    10.000000     3.000000  66646.800000  1.113750e+06   \n",
       "\n",
       "               Sq_Ft    YearBuilt  logSalePrice  \n",
       "count    2303.000000  2303.000000   2303.000000  \n",
       "mean     7244.147199  1326.902301     12.207328  \n",
       "std      8973.972349   925.367945      0.535769  \n",
       "min       120.000000     0.000000     10.184900  \n",
       "25%      1828.000000     0.000000     11.847610  \n",
       "50%      7200.000000  1955.000000     12.138864  \n",
       "75%     10205.500000  1988.000000     12.524526  \n",
       "max    215245.000000  2010.000000     13.923243  "
      ]
     },
     "execution_count": 182,
     "metadata": {},
     "output_type": "execute_result"
    }
   ],
   "source": [
    "df_final.describe()"
   ]
  },
  {
   "cell_type": "code",
   "execution_count": null,
   "metadata": {},
   "outputs": [],
   "source": []
  }
 ],
 "metadata": {
  "kernelspec": {
   "display_name": "Python 3",
   "language": "python",
   "name": "python3"
  },
  "language_info": {
   "codemirror_mode": {
    "name": "ipython",
    "version": 3
   },
   "file_extension": ".py",
   "mimetype": "text/x-python",
   "name": "python",
   "nbconvert_exporter": "python",
   "pygments_lexer": "ipython3",
   "version": "3.6.4"
  }
 },
 "nbformat": 4,
 "nbformat_minor": 2
}
