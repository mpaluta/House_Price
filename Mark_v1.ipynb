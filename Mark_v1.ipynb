{
 "cells": [
  {
   "cell_type": "code",
   "execution_count": 1,
   "metadata": {
    "collapsed": true
   },
   "outputs": [],
   "source": [
    "import numpy as np\n",
    "import pandas as pd\n",
    "import matplotlib.pyplot as plt\n",
    "%matplotlib inline"
   ]
  },
  {
   "cell_type": "code",
   "execution_count": 2,
   "metadata": {
    "collapsed": true
   },
   "outputs": [],
   "source": [
    "df=pd.read_csv('train.csv', sep=',')"
   ]
  },
  {
   "cell_type": "code",
   "execution_count": 3,
   "metadata": {},
   "outputs": [],
   "source": [
    "#df.columns"
   ]
  },
  {
   "cell_type": "code",
   "execution_count": 4,
   "metadata": {
    "collapsed": true
   },
   "outputs": [],
   "source": [
    "#df['log_SalePrice'] = np.log(df['SalePrice'])"
   ]
  },
  {
   "cell_type": "code",
   "execution_count": 5,
   "metadata": {},
   "outputs": [],
   "source": [
    "#plt.scatter(df['LotArea'], df['SalePrice'], alpha = 0.25)\n",
    "#plt.ylabel('Sale Price')\n",
    "#plt.xlabel('Lot Square Footage')\n",
    "#plt.title('Sale Price vs Lot Square Footage')\n",
    "## Limit x-axis to view fewer outliers\n",
    "#plt.xlim((0,50000))"
   ]
  },
  {
   "cell_type": "code",
   "execution_count": 6,
   "metadata": {},
   "outputs": [],
   "source": [
    "#groups = df.groupby('Neighborhood')\n",
    "#fig, ax = plt.subplots(figsize=(10,8))\n",
    "#for name, group in groups:\n",
    "#    ax.plot(group['GrLivArea'], group['log_SalePrice'], marker='o', linestyle='', label=name, alpha = .8)\n",
    "#ax.legend(numpoints=1, loc='upper right')\n",
    "#plt.ylabel('Log of Sale Price')\n",
    "#plt.xlabel('Square Footage')\n",
    "#plt.title('Log of Sale Price vs Square Footage Sorted by Neighborhood')"
   ]
  },
  {
   "cell_type": "code",
   "execution_count": null,
   "metadata": {
    "collapsed": true
   },
   "outputs": [],
   "source": []
  },
  {
   "cell_type": "code",
   "execution_count": null,
   "metadata": {
    "collapsed": true
   },
   "outputs": [],
   "source": []
  }
 ],
 "metadata": {
  "kernelspec": {
   "display_name": "Python 3",
   "language": "python",
   "name": "python3"
  },
  "language_info": {
   "codemirror_mode": {
    "name": "ipython",
    "version": 3
   },
   "file_extension": ".py",
   "mimetype": "text/x-python",
   "name": "python",
   "nbconvert_exporter": "python",
   "pygments_lexer": "ipython3",
   "version": "3.6.3"
  }
 },
 "nbformat": 4,
 "nbformat_minor": 2
}
